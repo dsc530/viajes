{
 "cells": [
  {
   "cell_type": "markdown",
   "metadata": {},
   "source": [
    "# ANALISIS DE  VIAJES PARA ZUBER"
   ]
  },
  {
   "cell_type": "markdown",
   "metadata": {},
   "source": [
    "El siguiente análisis se lleva a cabo para la empresa de viajes compartidos Zuber.\n",
    "\n",
    "Se va a realizar un estudio sobre los datos de los viajes realizados por varias compañías competidoras en la ciudad de Chicago. Para ello se estableceran los siguientes objetivos:\n",
    "\n",
    "- Encontrar patrones en los datos analizados.\n",
    "- Verificar las preferencias de los clientes dentro de la competencia.\n",
    "- Establecer quienes son los competidores mas relevantes y su participación en el mercado.\n",
    "- Establecer las zonas con mayor cantidad de viajes completados en promedio.\n",
    "- Establecer si otras variables afectan el desarrollo del servicio, especificamente, el clima.\n"
   ]
  },
  {
   "cell_type": "markdown",
   "metadata": {},
   "source": [
    "##  IMPORTACION LIBRERÍAS"
   ]
  },
  {
   "cell_type": "code",
   "execution_count": 3,
   "metadata": {},
   "outputs": [],
   "source": [
    "import pandas as pd\n",
    "import numpy as np\n",
    "from scipy import stats as st "
   ]
  },
  {
   "cell_type": "markdown",
   "metadata": {},
   "source": [
    "## IMPORTACIÓN DE DATOS"
   ]
  },
  {
   "cell_type": "code",
   "execution_count": 4,
   "metadata": {},
   "outputs": [],
   "source": [
    "trips_amount = pd.read_csv('project_sql_result_01.csv')\n",
    "trips_average = pd.read_csv('project_sql_result_04.csv')\n",
    "trips_loop = pd.read_csv('project_sql_result_07.csv')"
   ]
  },
  {
   "cell_type": "markdown",
   "metadata": {},
   "source": [
    "## LIMPIEZA DE DATOS"
   ]
  },
  {
   "cell_type": "markdown",
   "metadata": {},
   "source": [
    "### Tabla Cantidad de Viajes por Empresa"
   ]
  },
  {
   "cell_type": "code",
   "execution_count": 5,
   "metadata": {},
   "outputs": [
    {
     "name": "stdout",
     "output_type": "stream",
     "text": [
      "<class 'pandas.core.frame.DataFrame'>\n",
      "RangeIndex: 64 entries, 0 to 63\n",
      "Data columns (total 2 columns):\n",
      " #   Column        Non-Null Count  Dtype \n",
      "---  ------        --------------  ----- \n",
      " 0   company_name  64 non-null     object\n",
      " 1   trips_amount  64 non-null     int64 \n",
      "dtypes: int64(1), object(1)\n",
      "memory usage: 1.1+ KB\n"
     ]
    }
   ],
   "source": [
    "#resumen de la tabla\n",
    "trips_amount.info()"
   ]
  },
  {
   "cell_type": "code",
   "execution_count": 6,
   "metadata": {},
   "outputs": [
    {
     "data": {
      "text/html": [
       "<div>\n",
       "<style scoped>\n",
       "    .dataframe tbody tr th:only-of-type {\n",
       "        vertical-align: middle;\n",
       "    }\n",
       "\n",
       "    .dataframe tbody tr th {\n",
       "        vertical-align: top;\n",
       "    }\n",
       "\n",
       "    .dataframe thead th {\n",
       "        text-align: right;\n",
       "    }\n",
       "</style>\n",
       "<table border=\"1\" class=\"dataframe\">\n",
       "  <thead>\n",
       "    <tr style=\"text-align: right;\">\n",
       "      <th></th>\n",
       "      <th>company_name</th>\n",
       "      <th>trips_amount</th>\n",
       "    </tr>\n",
       "  </thead>\n",
       "  <tbody>\n",
       "    <tr>\n",
       "      <th>0</th>\n",
       "      <td>Flash Cab</td>\n",
       "      <td>19558</td>\n",
       "    </tr>\n",
       "    <tr>\n",
       "      <th>1</th>\n",
       "      <td>Taxi Affiliation Services</td>\n",
       "      <td>11422</td>\n",
       "    </tr>\n",
       "    <tr>\n",
       "      <th>2</th>\n",
       "      <td>Medallion Leasin</td>\n",
       "      <td>10367</td>\n",
       "    </tr>\n",
       "    <tr>\n",
       "      <th>3</th>\n",
       "      <td>Yellow Cab</td>\n",
       "      <td>9888</td>\n",
       "    </tr>\n",
       "    <tr>\n",
       "      <th>4</th>\n",
       "      <td>Taxi Affiliation Service Yellow</td>\n",
       "      <td>9299</td>\n",
       "    </tr>\n",
       "  </tbody>\n",
       "</table>\n",
       "</div>"
      ],
      "text/plain": [
       "                      company_name  trips_amount\n",
       "0                        Flash Cab         19558\n",
       "1        Taxi Affiliation Services         11422\n",
       "2                 Medallion Leasin         10367\n",
       "3                       Yellow Cab          9888\n",
       "4  Taxi Affiliation Service Yellow          9299"
      ]
     },
     "execution_count": 6,
     "metadata": {},
     "output_type": "execute_result"
    }
   ],
   "source": [
    "trips_amount.head()"
   ]
  },
  {
   "cell_type": "code",
   "execution_count": 7,
   "metadata": {
    "scrolled": true
   },
   "outputs": [
    {
     "data": {
      "text/html": [
       "<div>\n",
       "<style scoped>\n",
       "    .dataframe tbody tr th:only-of-type {\n",
       "        vertical-align: middle;\n",
       "    }\n",
       "\n",
       "    .dataframe tbody tr th {\n",
       "        vertical-align: top;\n",
       "    }\n",
       "\n",
       "    .dataframe thead th {\n",
       "        text-align: right;\n",
       "    }\n",
       "</style>\n",
       "<table border=\"1\" class=\"dataframe\">\n",
       "  <thead>\n",
       "    <tr style=\"text-align: right;\">\n",
       "      <th></th>\n",
       "      <th>company_name</th>\n",
       "      <th>trips_amount</th>\n",
       "    </tr>\n",
       "  </thead>\n",
       "  <tbody>\n",
       "  </tbody>\n",
       "</table>\n",
       "</div>"
      ],
      "text/plain": [
       "Empty DataFrame\n",
       "Columns: [company_name, trips_amount]\n",
       "Index: []"
      ]
     },
     "execution_count": 7,
     "metadata": {},
     "output_type": "execute_result"
    }
   ],
   "source": [
    "#comprobación duplicados\n",
    "trips_amount [trips_amount.duplicated()]"
   ]
  },
  {
   "cell_type": "code",
   "execution_count": 8,
   "metadata": {},
   "outputs": [
    {
     "data": {
      "text/plain": [
       "count       64.000000\n",
       "mean      2145.484375\n",
       "std       3812.310186\n",
       "min          2.000000\n",
       "25%         20.750000\n",
       "50%        178.500000\n",
       "75%       2106.500000\n",
       "max      19558.000000\n",
       "Name: trips_amount, dtype: float64"
      ]
     },
     "execution_count": 8,
     "metadata": {},
     "output_type": "execute_result"
    }
   ],
   "source": [
    "#resumen estadísitico de la cantidad de viajes\n",
    "trips_amount['trips_amount'].describe()"
   ]
  },
  {
   "cell_type": "markdown",
   "metadata": {},
   "source": [
    "- Según la exploración previa, la tabla no tiene datos nulos ni repetidos. Los tipos de datos están correctos de acuerdo a cada columna.\n",
    "- Observando el resumen estadístico del número de viajes, podemos observar que el máximo está muy lejos de la media y su descviación, además de encontrarse fuera del percentil 75 de los datos. Por tanto se puede considerar que es un caso fuera de lo normal, y se le debería prestar especial atención ya que es el líder del mercado."
   ]
  },
  {
   "cell_type": "markdown",
   "metadata": {},
   "source": [
    "### Tabla Promedio de viajes por dirección de llegada"
   ]
  },
  {
   "cell_type": "code",
   "execution_count": 9,
   "metadata": {},
   "outputs": [
    {
     "name": "stdout",
     "output_type": "stream",
     "text": [
      "<class 'pandas.core.frame.DataFrame'>\n",
      "RangeIndex: 94 entries, 0 to 93\n",
      "Data columns (total 2 columns):\n",
      " #   Column                 Non-Null Count  Dtype  \n",
      "---  ------                 --------------  -----  \n",
      " 0   dropoff_location_name  94 non-null     object \n",
      " 1   average_trips          94 non-null     float64\n",
      "dtypes: float64(1), object(1)\n",
      "memory usage: 1.6+ KB\n"
     ]
    }
   ],
   "source": [
    "#resumen de la tabla\n",
    "trips_average.info()"
   ]
  },
  {
   "cell_type": "code",
   "execution_count": 10,
   "metadata": {},
   "outputs": [
    {
     "data": {
      "text/html": [
       "<div>\n",
       "<style scoped>\n",
       "    .dataframe tbody tr th:only-of-type {\n",
       "        vertical-align: middle;\n",
       "    }\n",
       "\n",
       "    .dataframe tbody tr th {\n",
       "        vertical-align: top;\n",
       "    }\n",
       "\n",
       "    .dataframe thead th {\n",
       "        text-align: right;\n",
       "    }\n",
       "</style>\n",
       "<table border=\"1\" class=\"dataframe\">\n",
       "  <thead>\n",
       "    <tr style=\"text-align: right;\">\n",
       "      <th></th>\n",
       "      <th>dropoff_location_name</th>\n",
       "      <th>average_trips</th>\n",
       "    </tr>\n",
       "  </thead>\n",
       "  <tbody>\n",
       "    <tr>\n",
       "      <th>0</th>\n",
       "      <td>Loop</td>\n",
       "      <td>10727.466667</td>\n",
       "    </tr>\n",
       "    <tr>\n",
       "      <th>1</th>\n",
       "      <td>River North</td>\n",
       "      <td>9523.666667</td>\n",
       "    </tr>\n",
       "    <tr>\n",
       "      <th>2</th>\n",
       "      <td>Streeterville</td>\n",
       "      <td>6664.666667</td>\n",
       "    </tr>\n",
       "    <tr>\n",
       "      <th>3</th>\n",
       "      <td>West Loop</td>\n",
       "      <td>5163.666667</td>\n",
       "    </tr>\n",
       "    <tr>\n",
       "      <th>4</th>\n",
       "      <td>O'Hare</td>\n",
       "      <td>2546.900000</td>\n",
       "    </tr>\n",
       "  </tbody>\n",
       "</table>\n",
       "</div>"
      ],
      "text/plain": [
       "  dropoff_location_name  average_trips\n",
       "0                  Loop   10727.466667\n",
       "1           River North    9523.666667\n",
       "2         Streeterville    6664.666667\n",
       "3             West Loop    5163.666667\n",
       "4                O'Hare    2546.900000"
      ]
     },
     "execution_count": 10,
     "metadata": {},
     "output_type": "execute_result"
    }
   ],
   "source": [
    "trips_average.head()"
   ]
  },
  {
   "cell_type": "code",
   "execution_count": 11,
   "metadata": {},
   "outputs": [
    {
     "data": {
      "text/html": [
       "<div>\n",
       "<style scoped>\n",
       "    .dataframe tbody tr th:only-of-type {\n",
       "        vertical-align: middle;\n",
       "    }\n",
       "\n",
       "    .dataframe tbody tr th {\n",
       "        vertical-align: top;\n",
       "    }\n",
       "\n",
       "    .dataframe thead th {\n",
       "        text-align: right;\n",
       "    }\n",
       "</style>\n",
       "<table border=\"1\" class=\"dataframe\">\n",
       "  <thead>\n",
       "    <tr style=\"text-align: right;\">\n",
       "      <th></th>\n",
       "      <th>dropoff_location_name</th>\n",
       "      <th>average_trips</th>\n",
       "    </tr>\n",
       "  </thead>\n",
       "  <tbody>\n",
       "  </tbody>\n",
       "</table>\n",
       "</div>"
      ],
      "text/plain": [
       "Empty DataFrame\n",
       "Columns: [dropoff_location_name, average_trips]\n",
       "Index: []"
      ]
     },
     "execution_count": 11,
     "metadata": {},
     "output_type": "execute_result"
    }
   ],
   "source": [
    "#comprobación duplicados\n",
    "trips_average [trips_average.duplicated()]"
   ]
  },
  {
   "cell_type": "code",
   "execution_count": 12,
   "metadata": {},
   "outputs": [
    {
     "data": {
      "text/plain": [
       "count       94.000000\n",
       "mean       599.953728\n",
       "std       1714.591098\n",
       "min          1.800000\n",
       "25%         14.266667\n",
       "50%         52.016667\n",
       "75%        298.858333\n",
       "max      10727.466667\n",
       "Name: average_trips, dtype: float64"
      ]
     },
     "execution_count": 12,
     "metadata": {},
     "output_type": "execute_result"
    }
   ],
   "source": [
    "#resumen estadísitico de los promedios de viajes completados por barrio\n",
    "trips_average['average_trips'].describe()"
   ]
  },
  {
   "cell_type": "markdown",
   "metadata": {},
   "source": [
    "- Según la exploración previa, la tabla no tiene datos nulos ni repetidos. Los tipos de datos están correctos de acuerdo a cada columna.\n",
    "- En cuanto al resumen estadístico de la columna average_trips, se puede observar que el máximo está muy por encima de la media y su desviación, además de encontrarse fuera del percentil 75 de los datos, haciendo que sea de particular relevancia este barrio por que se podría llegar a considerar un outlier (con muy alto promedio viajes completados). "
   ]
  },
  {
   "cell_type": "code",
   "execution_count": 13,
   "metadata": {
    "scrolled": true
   },
   "outputs": [
    {
     "name": "stdout",
     "output_type": "stream",
     "text": [
      "<class 'pandas.core.frame.DataFrame'>\n",
      "RangeIndex: 1068 entries, 0 to 1067\n",
      "Data columns (total 3 columns):\n",
      " #   Column              Non-Null Count  Dtype  \n",
      "---  ------              --------------  -----  \n",
      " 0   start_ts            1068 non-null   object \n",
      " 1   weather_conditions  1068 non-null   object \n",
      " 2   duration_seconds    1068 non-null   float64\n",
      "dtypes: float64(1), object(2)\n",
      "memory usage: 25.2+ KB\n"
     ]
    }
   ],
   "source": [
    "#resumen de la tabla\n",
    "trips_loop.info()"
   ]
  },
  {
   "cell_type": "code",
   "execution_count": 14,
   "metadata": {},
   "outputs": [
    {
     "data": {
      "text/html": [
       "<div>\n",
       "<style scoped>\n",
       "    .dataframe tbody tr th:only-of-type {\n",
       "        vertical-align: middle;\n",
       "    }\n",
       "\n",
       "    .dataframe tbody tr th {\n",
       "        vertical-align: top;\n",
       "    }\n",
       "\n",
       "    .dataframe thead th {\n",
       "        text-align: right;\n",
       "    }\n",
       "</style>\n",
       "<table border=\"1\" class=\"dataframe\">\n",
       "  <thead>\n",
       "    <tr style=\"text-align: right;\">\n",
       "      <th></th>\n",
       "      <th>start_ts</th>\n",
       "      <th>weather_conditions</th>\n",
       "      <th>duration_seconds</th>\n",
       "    </tr>\n",
       "  </thead>\n",
       "  <tbody>\n",
       "    <tr>\n",
       "      <th>0</th>\n",
       "      <td>2017-11-25 16:00:00</td>\n",
       "      <td>Good</td>\n",
       "      <td>2410.0</td>\n",
       "    </tr>\n",
       "    <tr>\n",
       "      <th>1</th>\n",
       "      <td>2017-11-25 14:00:00</td>\n",
       "      <td>Good</td>\n",
       "      <td>1920.0</td>\n",
       "    </tr>\n",
       "    <tr>\n",
       "      <th>2</th>\n",
       "      <td>2017-11-25 12:00:00</td>\n",
       "      <td>Good</td>\n",
       "      <td>1543.0</td>\n",
       "    </tr>\n",
       "    <tr>\n",
       "      <th>3</th>\n",
       "      <td>2017-11-04 10:00:00</td>\n",
       "      <td>Good</td>\n",
       "      <td>2512.0</td>\n",
       "    </tr>\n",
       "    <tr>\n",
       "      <th>4</th>\n",
       "      <td>2017-11-11 07:00:00</td>\n",
       "      <td>Good</td>\n",
       "      <td>1440.0</td>\n",
       "    </tr>\n",
       "  </tbody>\n",
       "</table>\n",
       "</div>"
      ],
      "text/plain": [
       "              start_ts weather_conditions  duration_seconds\n",
       "0  2017-11-25 16:00:00               Good            2410.0\n",
       "1  2017-11-25 14:00:00               Good            1920.0\n",
       "2  2017-11-25 12:00:00               Good            1543.0\n",
       "3  2017-11-04 10:00:00               Good            2512.0\n",
       "4  2017-11-11 07:00:00               Good            1440.0"
      ]
     },
     "execution_count": 14,
     "metadata": {},
     "output_type": "execute_result"
    }
   ],
   "source": [
    "#comprobación duplicados\n",
    "trips_loop.head()"
   ]
  },
  {
   "cell_type": "code",
   "execution_count": 15,
   "metadata": {
    "scrolled": true
   },
   "outputs": [
    {
     "data": {
      "text/html": [
       "<div>\n",
       "<style scoped>\n",
       "    .dataframe tbody tr th:only-of-type {\n",
       "        vertical-align: middle;\n",
       "    }\n",
       "\n",
       "    .dataframe tbody tr th {\n",
       "        vertical-align: top;\n",
       "    }\n",
       "\n",
       "    .dataframe thead th {\n",
       "        text-align: right;\n",
       "    }\n",
       "</style>\n",
       "<table border=\"1\" class=\"dataframe\">\n",
       "  <thead>\n",
       "    <tr style=\"text-align: right;\">\n",
       "      <th></th>\n",
       "      <th>start_ts</th>\n",
       "      <th>weather_conditions</th>\n",
       "      <th>duration_seconds</th>\n",
       "    </tr>\n",
       "  </thead>\n",
       "  <tbody>\n",
       "    <tr>\n",
       "      <th>62</th>\n",
       "      <td>2017-11-11 06:00:00</td>\n",
       "      <td>Good</td>\n",
       "      <td>1260.0</td>\n",
       "    </tr>\n",
       "    <tr>\n",
       "      <th>74</th>\n",
       "      <td>2017-11-11 08:00:00</td>\n",
       "      <td>Good</td>\n",
       "      <td>1380.0</td>\n",
       "    </tr>\n",
       "    <tr>\n",
       "      <th>76</th>\n",
       "      <td>2017-11-04 09:00:00</td>\n",
       "      <td>Good</td>\n",
       "      <td>1380.0</td>\n",
       "    </tr>\n",
       "    <tr>\n",
       "      <th>117</th>\n",
       "      <td>2017-11-11 07:00:00</td>\n",
       "      <td>Good</td>\n",
       "      <td>1380.0</td>\n",
       "    </tr>\n",
       "    <tr>\n",
       "      <th>119</th>\n",
       "      <td>2017-11-04 14:00:00</td>\n",
       "      <td>Good</td>\n",
       "      <td>3300.0</td>\n",
       "    </tr>\n",
       "    <tr>\n",
       "      <th>...</th>\n",
       "      <td>...</td>\n",
       "      <td>...</td>\n",
       "      <td>...</td>\n",
       "    </tr>\n",
       "    <tr>\n",
       "      <th>1054</th>\n",
       "      <td>2017-11-11 07:00:00</td>\n",
       "      <td>Good</td>\n",
       "      <td>1380.0</td>\n",
       "    </tr>\n",
       "    <tr>\n",
       "      <th>1058</th>\n",
       "      <td>2017-11-25 12:00:00</td>\n",
       "      <td>Good</td>\n",
       "      <td>1440.0</td>\n",
       "    </tr>\n",
       "    <tr>\n",
       "      <th>1062</th>\n",
       "      <td>2017-11-11 06:00:00</td>\n",
       "      <td>Good</td>\n",
       "      <td>1500.0</td>\n",
       "    </tr>\n",
       "    <tr>\n",
       "      <th>1065</th>\n",
       "      <td>2017-11-11 13:00:00</td>\n",
       "      <td>Good</td>\n",
       "      <td>2100.0</td>\n",
       "    </tr>\n",
       "    <tr>\n",
       "      <th>1066</th>\n",
       "      <td>2017-11-11 08:00:00</td>\n",
       "      <td>Good</td>\n",
       "      <td>1380.0</td>\n",
       "    </tr>\n",
       "  </tbody>\n",
       "</table>\n",
       "<p>197 rows × 3 columns</p>\n",
       "</div>"
      ],
      "text/plain": [
       "                 start_ts weather_conditions  duration_seconds\n",
       "62    2017-11-11 06:00:00               Good            1260.0\n",
       "74    2017-11-11 08:00:00               Good            1380.0\n",
       "76    2017-11-04 09:00:00               Good            1380.0\n",
       "117   2017-11-11 07:00:00               Good            1380.0\n",
       "119   2017-11-04 14:00:00               Good            3300.0\n",
       "...                   ...                ...               ...\n",
       "1054  2017-11-11 07:00:00               Good            1380.0\n",
       "1058  2017-11-25 12:00:00               Good            1440.0\n",
       "1062  2017-11-11 06:00:00               Good            1500.0\n",
       "1065  2017-11-11 13:00:00               Good            2100.0\n",
       "1066  2017-11-11 08:00:00               Good            1380.0\n",
       "\n",
       "[197 rows x 3 columns]"
      ]
     },
     "execution_count": 15,
     "metadata": {},
     "output_type": "execute_result"
    }
   ],
   "source": [
    "#comprobación duplicados\n",
    "trips_loop [trips_loop.duplicated()]"
   ]
  },
  {
   "cell_type": "code",
   "execution_count": 16,
   "metadata": {
    "scrolled": true
   },
   "outputs": [
    {
     "data": {
      "text/plain": [
       "count    1068.000000\n",
       "mean     2071.731273\n",
       "std       769.461125\n",
       "min         0.000000\n",
       "25%      1438.250000\n",
       "50%      1980.000000\n",
       "75%      2580.000000\n",
       "max      7440.000000\n",
       "Name: duration_seconds, dtype: float64"
      ]
     },
     "execution_count": 16,
     "metadata": {},
     "output_type": "execute_result"
    }
   ],
   "source": [
    "#resumen estadísitico de la duración en segundos de los viajes\n",
    "trips_loop['duration_seconds'].describe()"
   ]
  },
  {
   "cell_type": "code",
   "execution_count": 17,
   "metadata": {
    "scrolled": true
   },
   "outputs": [
    {
     "data": {
      "text/html": [
       "<div>\n",
       "<style scoped>\n",
       "    .dataframe tbody tr th:only-of-type {\n",
       "        vertical-align: middle;\n",
       "    }\n",
       "\n",
       "    .dataframe tbody tr th {\n",
       "        vertical-align: top;\n",
       "    }\n",
       "\n",
       "    .dataframe thead th {\n",
       "        text-align: right;\n",
       "    }\n",
       "</style>\n",
       "<table border=\"1\" class=\"dataframe\">\n",
       "  <thead>\n",
       "    <tr style=\"text-align: right;\">\n",
       "      <th></th>\n",
       "      <th>start_ts</th>\n",
       "      <th>weather_conditions</th>\n",
       "      <th>duration_seconds</th>\n",
       "    </tr>\n",
       "  </thead>\n",
       "  <tbody>\n",
       "    <tr>\n",
       "      <th>163</th>\n",
       "      <td>2017-11-11 09:00:00</td>\n",
       "      <td>Good</td>\n",
       "      <td>0.0</td>\n",
       "    </tr>\n",
       "    <tr>\n",
       "      <th>168</th>\n",
       "      <td>2017-11-11 07:00:00</td>\n",
       "      <td>Good</td>\n",
       "      <td>0.0</td>\n",
       "    </tr>\n",
       "    <tr>\n",
       "      <th>204</th>\n",
       "      <td>2017-11-18 19:00:00</td>\n",
       "      <td>Good</td>\n",
       "      <td>0.0</td>\n",
       "    </tr>\n",
       "    <tr>\n",
       "      <th>552</th>\n",
       "      <td>2017-11-04 01:00:00</td>\n",
       "      <td>Good</td>\n",
       "      <td>0.0</td>\n",
       "    </tr>\n",
       "    <tr>\n",
       "      <th>801</th>\n",
       "      <td>2017-11-04 09:00:00</td>\n",
       "      <td>Good</td>\n",
       "      <td>0.0</td>\n",
       "    </tr>\n",
       "    <tr>\n",
       "      <th>1063</th>\n",
       "      <td>2017-11-25 11:00:00</td>\n",
       "      <td>Good</td>\n",
       "      <td>0.0</td>\n",
       "    </tr>\n",
       "  </tbody>\n",
       "</table>\n",
       "</div>"
      ],
      "text/plain": [
       "                 start_ts weather_conditions  duration_seconds\n",
       "163   2017-11-11 09:00:00               Good               0.0\n",
       "168   2017-11-11 07:00:00               Good               0.0\n",
       "204   2017-11-18 19:00:00               Good               0.0\n",
       "552   2017-11-04 01:00:00               Good               0.0\n",
       "801   2017-11-04 09:00:00               Good               0.0\n",
       "1063  2017-11-25 11:00:00               Good               0.0"
      ]
     },
     "execution_count": 17,
     "metadata": {},
     "output_type": "execute_result"
    }
   ],
   "source": [
    "#Comprobando cantidad de viajes con duración de 0\n",
    "no_duration = trips_loop[trips_loop['duration_seconds']== 0]\n",
    "no_duration"
   ]
  },
  {
   "cell_type": "code",
   "execution_count": 18,
   "metadata": {},
   "outputs": [],
   "source": [
    "trips_loop.drop(index=no_duration.index,inplace=True)"
   ]
  },
  {
   "cell_type": "code",
   "execution_count": 19,
   "metadata": {},
   "outputs": [
    {
     "data": {
      "text/html": [
       "<div>\n",
       "<style scoped>\n",
       "    .dataframe tbody tr th:only-of-type {\n",
       "        vertical-align: middle;\n",
       "    }\n",
       "\n",
       "    .dataframe tbody tr th {\n",
       "        vertical-align: top;\n",
       "    }\n",
       "\n",
       "    .dataframe thead th {\n",
       "        text-align: right;\n",
       "    }\n",
       "</style>\n",
       "<table border=\"1\" class=\"dataframe\">\n",
       "  <thead>\n",
       "    <tr style=\"text-align: right;\">\n",
       "      <th></th>\n",
       "      <th>start_ts</th>\n",
       "      <th>weather_conditions</th>\n",
       "      <th>duration_seconds</th>\n",
       "    </tr>\n",
       "  </thead>\n",
       "  <tbody>\n",
       "  </tbody>\n",
       "</table>\n",
       "</div>"
      ],
      "text/plain": [
       "Empty DataFrame\n",
       "Columns: [start_ts, weather_conditions, duration_seconds]\n",
       "Index: []"
      ]
     },
     "execution_count": 19,
     "metadata": {},
     "output_type": "execute_result"
    }
   ],
   "source": [
    "trips_loop[trips_loop['duration_seconds']== 0]"
   ]
  },
  {
   "cell_type": "markdown",
   "metadata": {},
   "source": [
    "- Según la exploración previa, la tabla no tiene datos nulos. Los tipos de datos están correctos de acuerdo a cada columna.\n",
    "- Existen varios datos duplicados, esto se puede deber a que el tiempo fue redondeado a horas y por tanto, entre dos viajes llega a coincidir el inicio, las condiciones de clima y su duración.\n",
    "- En cuanto al resumen estadístico de la columna duration_seconds, se puede ver que existen viajes con duración 0, lo cual puede ser un error en alguna parte de la toma de datos. Al ser solo 6, no afectan de manera importante al conjunto de datos, por lo que se eliminan.\n",
    "- También se puede ver que la duración máxima está muy lejos del promedio y la desviación, también por encima del percentil 75. Por ende puede llegar a ser considerado un outlier. "
   ]
  },
  {
   "cell_type": "markdown",
   "metadata": {},
   "source": [
    "## EXPLORACIÓN DE DATOS"
   ]
  },
  {
   "cell_type": "markdown",
   "metadata": {},
   "source": [
    "### Tabla de viajes por empresa"
   ]
  },
  {
   "cell_type": "code",
   "execution_count": 20,
   "metadata": {},
   "outputs": [
    {
     "data": {
      "text/html": [
       "<div>\n",
       "<style scoped>\n",
       "    .dataframe tbody tr th:only-of-type {\n",
       "        vertical-align: middle;\n",
       "    }\n",
       "\n",
       "    .dataframe tbody tr th {\n",
       "        vertical-align: top;\n",
       "    }\n",
       "\n",
       "    .dataframe thead th {\n",
       "        text-align: right;\n",
       "    }\n",
       "</style>\n",
       "<table border=\"1\" class=\"dataframe\">\n",
       "  <thead>\n",
       "    <tr style=\"text-align: right;\">\n",
       "      <th></th>\n",
       "      <th>company_name</th>\n",
       "      <th>trips_amount</th>\n",
       "    </tr>\n",
       "  </thead>\n",
       "  <tbody>\n",
       "    <tr>\n",
       "      <th>0</th>\n",
       "      <td>Flash Cab</td>\n",
       "      <td>19558</td>\n",
       "    </tr>\n",
       "    <tr>\n",
       "      <th>1</th>\n",
       "      <td>Taxi Affiliation Services</td>\n",
       "      <td>11422</td>\n",
       "    </tr>\n",
       "    <tr>\n",
       "      <th>2</th>\n",
       "      <td>Medallion Leasin</td>\n",
       "      <td>10367</td>\n",
       "    </tr>\n",
       "    <tr>\n",
       "      <th>3</th>\n",
       "      <td>Yellow Cab</td>\n",
       "      <td>9888</td>\n",
       "    </tr>\n",
       "    <tr>\n",
       "      <th>4</th>\n",
       "      <td>Taxi Affiliation Service Yellow</td>\n",
       "      <td>9299</td>\n",
       "    </tr>\n",
       "    <tr>\n",
       "      <th>5</th>\n",
       "      <td>Chicago Carriage Cab Corp</td>\n",
       "      <td>9181</td>\n",
       "    </tr>\n",
       "    <tr>\n",
       "      <th>6</th>\n",
       "      <td>City Service</td>\n",
       "      <td>8448</td>\n",
       "    </tr>\n",
       "    <tr>\n",
       "      <th>7</th>\n",
       "      <td>Sun Taxi</td>\n",
       "      <td>7701</td>\n",
       "    </tr>\n",
       "    <tr>\n",
       "      <th>8</th>\n",
       "      <td>Star North Management LLC</td>\n",
       "      <td>7455</td>\n",
       "    </tr>\n",
       "    <tr>\n",
       "      <th>9</th>\n",
       "      <td>Blue Ribbon Taxi Association Inc.</td>\n",
       "      <td>5953</td>\n",
       "    </tr>\n",
       "  </tbody>\n",
       "</table>\n",
       "</div>"
      ],
      "text/plain": [
       "                        company_name  trips_amount\n",
       "0                          Flash Cab         19558\n",
       "1          Taxi Affiliation Services         11422\n",
       "2                   Medallion Leasin         10367\n",
       "3                         Yellow Cab          9888\n",
       "4    Taxi Affiliation Service Yellow          9299\n",
       "5          Chicago Carriage Cab Corp          9181\n",
       "6                       City Service          8448\n",
       "7                           Sun Taxi          7701\n",
       "8          Star North Management LLC          7455\n",
       "9  Blue Ribbon Taxi Association Inc.          5953"
      ]
     },
     "execution_count": 20,
     "metadata": {},
     "output_type": "execute_result"
    }
   ],
   "source": [
    "#Filtrado 10 empresas con mas viajes\n",
    "top_companies = trips_amount.sort_values (by='trips_amount',ascending=False).head(10)\n",
    "top_companies"
   ]
  },
  {
   "cell_type": "code",
   "execution_count": 29,
   "metadata": {},
   "outputs": [
    {
     "data": {
      "text/plain": [
       "<AxesSubplot: title={'center': 'Top 10 Companies By Trips'}, xlabel='Company Name', ylabel='Trips Amount'>"
      ]
     },
     "execution_count": 29,
     "metadata": {},
     "output_type": "execute_result"
    },
    {
     "data": {
      "image/png": "[encoded data removed]",
      "text/plain": [
       "<Figure size 1000x500 with 1 Axes>"
      ]
     },
     "metadata": {},
     "output_type": "display_data"
    }
   ],
   "source": [
    "# Gráfico top 10 empresas con mas viajes\n",
    "top_companies.plot (kind='barh',x='company_name',y='trips_amount', \n",
    "                    figsize=(10,5), xlabel='Company Name',ylabel='Trips Amount',\n",
    "                   title='Top 10 Companies By Trips', legend=False)"
   ]
  },
  {
   "cell_type": "markdown",
   "metadata": {},
   "source": [
    "- De acuerdo a los datos, se aprecia claramente que la empresa mas popular por número de viajes es Flash Cab, misma que prácticamente dobla en cantidad a la segunda.\n",
    "- El resto de empresas están parejas ya que tienen cantidades comparables en el rango de 11 mil a 5 mil. "
   ]
  },
  {
   "cell_type": "markdown",
   "metadata": {},
   "source": [
    "### Tabla Promedio de viajes por dirección de llegada"
   ]
  },
  {
   "cell_type": "code",
   "execution_count": 22,
   "metadata": {},
   "outputs": [
    {
     "data": {
      "text/html": [
       "<div>\n",
       "<style scoped>\n",
       "    .dataframe tbody tr th:only-of-type {\n",
       "        vertical-align: middle;\n",
       "    }\n",
       "\n",
       "    .dataframe tbody tr th {\n",
       "        vertical-align: top;\n",
       "    }\n",
       "\n",
       "    .dataframe thead th {\n",
       "        text-align: right;\n",
       "    }\n",
       "</style>\n",
       "<table border=\"1\" class=\"dataframe\">\n",
       "  <thead>\n",
       "    <tr style=\"text-align: right;\">\n",
       "      <th></th>\n",
       "      <th>dropoff_location_name</th>\n",
       "      <th>average_trips</th>\n",
       "    </tr>\n",
       "  </thead>\n",
       "  <tbody>\n",
       "    <tr>\n",
       "      <th>0</th>\n",
       "      <td>Loop</td>\n",
       "      <td>10727.466667</td>\n",
       "    </tr>\n",
       "    <tr>\n",
       "      <th>1</th>\n",
       "      <td>River North</td>\n",
       "      <td>9523.666667</td>\n",
       "    </tr>\n",
       "    <tr>\n",
       "      <th>2</th>\n",
       "      <td>Streeterville</td>\n",
       "      <td>6664.666667</td>\n",
       "    </tr>\n",
       "    <tr>\n",
       "      <th>3</th>\n",
       "      <td>West Loop</td>\n",
       "      <td>5163.666667</td>\n",
       "    </tr>\n",
       "    <tr>\n",
       "      <th>4</th>\n",
       "      <td>O'Hare</td>\n",
       "      <td>2546.900000</td>\n",
       "    </tr>\n",
       "    <tr>\n",
       "      <th>5</th>\n",
       "      <td>Lake View</td>\n",
       "      <td>2420.966667</td>\n",
       "    </tr>\n",
       "    <tr>\n",
       "      <th>6</th>\n",
       "      <td>Grant Park</td>\n",
       "      <td>2068.533333</td>\n",
       "    </tr>\n",
       "    <tr>\n",
       "      <th>7</th>\n",
       "      <td>Museum Campus</td>\n",
       "      <td>1510.000000</td>\n",
       "    </tr>\n",
       "    <tr>\n",
       "      <th>8</th>\n",
       "      <td>Gold Coast</td>\n",
       "      <td>1364.233333</td>\n",
       "    </tr>\n",
       "    <tr>\n",
       "      <th>9</th>\n",
       "      <td>Sheffield &amp; DePaul</td>\n",
       "      <td>1259.766667</td>\n",
       "    </tr>\n",
       "  </tbody>\n",
       "</table>\n",
       "</div>"
      ],
      "text/plain": [
       "  dropoff_location_name  average_trips\n",
       "0                  Loop   10727.466667\n",
       "1           River North    9523.666667\n",
       "2         Streeterville    6664.666667\n",
       "3             West Loop    5163.666667\n",
       "4                O'Hare    2546.900000\n",
       "5             Lake View    2420.966667\n",
       "6            Grant Park    2068.533333\n",
       "7         Museum Campus    1510.000000\n",
       "8            Gold Coast    1364.233333\n",
       "9    Sheffield & DePaul    1259.766667"
      ]
     },
     "execution_count": 22,
     "metadata": {},
     "output_type": "execute_result"
    }
   ],
   "source": [
    "#Filtrado 10 promedios mas altos\n",
    "top_neighborhoods = trips_average.sort_values (by='average_trips',ascending=False).head(10)\n",
    "top_neighborhoods"
   ]
  },
  {
   "cell_type": "code",
   "execution_count": 30,
   "metadata": {},
   "outputs": [
    {
     "data": {
      "text/plain": [
       "<AxesSubplot: title={'center': 'Top 10 Neighborhoods By Average Trips'}, xlabel='Neighborhood Name', ylabel='Average Trips'>"
      ]
     },
     "execution_count": 30,
     "metadata": {},
     "output_type": "execute_result"
    },
    {
     "data": {
      "image/png": "[encoded data removed]",
      "text/plain": [
       "<Figure size 1000x500 with 1 Axes>"
      ]
     },
     "metadata": {},
     "output_type": "display_data"
    }
   ],
   "source": [
    "# Gráfica del top 10 barrios con mayor promedio de viajes concluidos \n",
    "top_neighborhoods.plot (kind='barh',x='dropoff_location_name',y='average_trips', \n",
    "                    figsize=(10,5), xlabel='Neighborhood Name',ylabel='Average Trips',\n",
    "                   title='Top 10 Neighborhoods By Average Trips', legend=False)"
   ]
  },
  {
   "cell_type": "markdown",
   "metadata": {},
   "source": [
    "- De acuerdo a la gráfica, destacan los barrios de 'Loop' y ' River North', que son los que en promedio tienen mayor cantidad de viajes finalizados. Podrían considerarse los prioritarios.\n",
    "- Con una diferencia significativa tenemos un segundo grupo conformado por 'Streeterville' y 'West Loop'\n",
    "- El tercer grupo conformado por el resto del top 10, tiene un promedio comparable entre si, y a menos de la mitad del grupo superior."
   ]
  },
  {
   "cell_type": "markdown",
   "metadata": {},
   "source": [
    "## ANÁLISIS ESTADÍSTICO"
   ]
  },
  {
   "cell_type": "markdown",
   "metadata": {},
   "source": [
    "Comprobar lo siguiente: \"La duración promedio de los viajes desde loop hasta el aeropuerto O'Hare cambia los sábados lluviosos\""
   ]
  },
  {
   "cell_type": "code",
   "execution_count": 24,
   "metadata": {},
   "outputs": [
    {
     "data": {
      "text/html": [
       "<div>\n",
       "<style scoped>\n",
       "    .dataframe tbody tr th:only-of-type {\n",
       "        vertical-align: middle;\n",
       "    }\n",
       "\n",
       "    .dataframe tbody tr th {\n",
       "        vertical-align: top;\n",
       "    }\n",
       "\n",
       "    .dataframe thead th {\n",
       "        text-align: right;\n",
       "    }\n",
       "</style>\n",
       "<table border=\"1\" class=\"dataframe\">\n",
       "  <thead>\n",
       "    <tr style=\"text-align: right;\">\n",
       "      <th></th>\n",
       "      <th>start_ts</th>\n",
       "      <th>weather_conditions</th>\n",
       "      <th>duration_seconds</th>\n",
       "    </tr>\n",
       "  </thead>\n",
       "  <tbody>\n",
       "    <tr>\n",
       "      <th>0</th>\n",
       "      <td>2017-11-25 16:00:00</td>\n",
       "      <td>Good</td>\n",
       "      <td>2410.0</td>\n",
       "    </tr>\n",
       "    <tr>\n",
       "      <th>1</th>\n",
       "      <td>2017-11-25 14:00:00</td>\n",
       "      <td>Good</td>\n",
       "      <td>1920.0</td>\n",
       "    </tr>\n",
       "    <tr>\n",
       "      <th>2</th>\n",
       "      <td>2017-11-25 12:00:00</td>\n",
       "      <td>Good</td>\n",
       "      <td>1543.0</td>\n",
       "    </tr>\n",
       "    <tr>\n",
       "      <th>3</th>\n",
       "      <td>2017-11-04 10:00:00</td>\n",
       "      <td>Good</td>\n",
       "      <td>2512.0</td>\n",
       "    </tr>\n",
       "    <tr>\n",
       "      <th>4</th>\n",
       "      <td>2017-11-11 07:00:00</td>\n",
       "      <td>Good</td>\n",
       "      <td>1440.0</td>\n",
       "    </tr>\n",
       "    <tr>\n",
       "      <th>5</th>\n",
       "      <td>2017-11-11 04:00:00</td>\n",
       "      <td>Good</td>\n",
       "      <td>1320.0</td>\n",
       "    </tr>\n",
       "    <tr>\n",
       "      <th>6</th>\n",
       "      <td>2017-11-04 16:00:00</td>\n",
       "      <td>Bad</td>\n",
       "      <td>2969.0</td>\n",
       "    </tr>\n",
       "    <tr>\n",
       "      <th>7</th>\n",
       "      <td>2017-11-18 11:00:00</td>\n",
       "      <td>Good</td>\n",
       "      <td>2280.0</td>\n",
       "    </tr>\n",
       "    <tr>\n",
       "      <th>8</th>\n",
       "      <td>2017-11-11 14:00:00</td>\n",
       "      <td>Good</td>\n",
       "      <td>2460.0</td>\n",
       "    </tr>\n",
       "    <tr>\n",
       "      <th>9</th>\n",
       "      <td>2017-11-11 12:00:00</td>\n",
       "      <td>Good</td>\n",
       "      <td>2040.0</td>\n",
       "    </tr>\n",
       "    <tr>\n",
       "      <th>10</th>\n",
       "      <td>2017-11-18 06:00:00</td>\n",
       "      <td>Good</td>\n",
       "      <td>1500.0</td>\n",
       "    </tr>\n",
       "    <tr>\n",
       "      <th>11</th>\n",
       "      <td>2017-11-04 11:00:00</td>\n",
       "      <td>Good</td>\n",
       "      <td>2040.0</td>\n",
       "    </tr>\n",
       "    <tr>\n",
       "      <th>12</th>\n",
       "      <td>2017-11-11 08:00:00</td>\n",
       "      <td>Good</td>\n",
       "      <td>1470.0</td>\n",
       "    </tr>\n",
       "    <tr>\n",
       "      <th>13</th>\n",
       "      <td>2017-11-04 08:00:00</td>\n",
       "      <td>Good</td>\n",
       "      <td>1546.0</td>\n",
       "    </tr>\n",
       "    <tr>\n",
       "      <th>14</th>\n",
       "      <td>2017-11-11 16:00:00</td>\n",
       "      <td>Good</td>\n",
       "      <td>2100.0</td>\n",
       "    </tr>\n",
       "    <tr>\n",
       "      <th>15</th>\n",
       "      <td>2017-11-25 13:00:00</td>\n",
       "      <td>Good</td>\n",
       "      <td>60.0</td>\n",
       "    </tr>\n",
       "    <tr>\n",
       "      <th>16</th>\n",
       "      <td>2017-11-04 12:00:00</td>\n",
       "      <td>Good</td>\n",
       "      <td>2640.0</td>\n",
       "    </tr>\n",
       "    <tr>\n",
       "      <th>17</th>\n",
       "      <td>2017-11-25 10:00:00</td>\n",
       "      <td>Good</td>\n",
       "      <td>1502.0</td>\n",
       "    </tr>\n",
       "    <tr>\n",
       "      <th>18</th>\n",
       "      <td>2017-11-11 12:00:00</td>\n",
       "      <td>Good</td>\n",
       "      <td>1915.0</td>\n",
       "    </tr>\n",
       "    <tr>\n",
       "      <th>19</th>\n",
       "      <td>2017-11-04 12:00:00</td>\n",
       "      <td>Good</td>\n",
       "      <td>2769.0</td>\n",
       "    </tr>\n",
       "  </tbody>\n",
       "</table>\n",
       "</div>"
      ],
      "text/plain": [
       "               start_ts weather_conditions  duration_seconds\n",
       "0   2017-11-25 16:00:00               Good            2410.0\n",
       "1   2017-11-25 14:00:00               Good            1920.0\n",
       "2   2017-11-25 12:00:00               Good            1543.0\n",
       "3   2017-11-04 10:00:00               Good            2512.0\n",
       "4   2017-11-11 07:00:00               Good            1440.0\n",
       "5   2017-11-11 04:00:00               Good            1320.0\n",
       "6   2017-11-04 16:00:00                Bad            2969.0\n",
       "7   2017-11-18 11:00:00               Good            2280.0\n",
       "8   2017-11-11 14:00:00               Good            2460.0\n",
       "9   2017-11-11 12:00:00               Good            2040.0\n",
       "10  2017-11-18 06:00:00               Good            1500.0\n",
       "11  2017-11-04 11:00:00               Good            2040.0\n",
       "12  2017-11-11 08:00:00               Good            1470.0\n",
       "13  2017-11-04 08:00:00               Good            1546.0\n",
       "14  2017-11-11 16:00:00               Good            2100.0\n",
       "15  2017-11-25 13:00:00               Good              60.0\n",
       "16  2017-11-04 12:00:00               Good            2640.0\n",
       "17  2017-11-25 10:00:00               Good            1502.0\n",
       "18  2017-11-11 12:00:00               Good            1915.0\n",
       "19  2017-11-04 12:00:00               Good            2769.0"
      ]
     },
     "execution_count": 24,
     "metadata": {},
     "output_type": "execute_result"
    }
   ],
   "source": [
    "trips_loop.head(20)"
   ]
  },
  {
   "cell_type": "markdown",
   "metadata": {},
   "source": [
    "### Preparación de datos"
   ]
  },
  {
   "cell_type": "code",
   "execution_count": 25,
   "metadata": {},
   "outputs": [
    {
     "data": {
      "text/html": [
       "<div>\n",
       "<style scoped>\n",
       "    .dataframe tbody tr th:only-of-type {\n",
       "        vertical-align: middle;\n",
       "    }\n",
       "\n",
       "    .dataframe tbody tr th {\n",
       "        vertical-align: top;\n",
       "    }\n",
       "\n",
       "    .dataframe thead th {\n",
       "        text-align: right;\n",
       "    }\n",
       "</style>\n",
       "<table border=\"1\" class=\"dataframe\">\n",
       "  <thead>\n",
       "    <tr style=\"text-align: right;\">\n",
       "      <th></th>\n",
       "      <th>mean</th>\n",
       "      <th>std_deviation</th>\n",
       "      <th>n</th>\n",
       "      <th>average_dev</th>\n",
       "    </tr>\n",
       "    <tr>\n",
       "      <th>weather_conditions</th>\n",
       "      <th></th>\n",
       "      <th></th>\n",
       "      <th></th>\n",
       "      <th></th>\n",
       "    </tr>\n",
       "  </thead>\n",
       "  <tbody>\n",
       "    <tr>\n",
       "      <th>Bad</th>\n",
       "      <td>2427.205556</td>\n",
       "      <td>721.314138</td>\n",
       "      <td>180</td>\n",
       "      <td>53.763582</td>\n",
       "    </tr>\n",
       "    <tr>\n",
       "      <th>Good</th>\n",
       "      <td>2013.278912</td>\n",
       "      <td>743.565217</td>\n",
       "      <td>882</td>\n",
       "      <td>25.037143</td>\n",
       "    </tr>\n",
       "  </tbody>\n",
       "</table>\n",
       "</div>"
      ],
      "text/plain": [
       "                           mean  std_deviation    n  average_dev\n",
       "weather_conditions                                              \n",
       "Bad                 2427.205556     721.314138  180    53.763582\n",
       "Good                2013.278912     743.565217  882    25.037143"
      ]
     },
     "execution_count": 25,
     "metadata": {},
     "output_type": "execute_result"
    }
   ],
   "source": [
    "# Elaboración de tabla pivot el con promedio de duración de viajes por condición del clima, \n",
    "#incluye desviación y número de muestras\n",
    "conditions = trips_loop.pivot_table(index='weather_conditions',\n",
    "                                   values='duration_seconds',\n",
    "                                    aggfunc=['mean','std','count'])\n",
    "\n",
    "conditions.columns=['mean','std_deviation','n']\n",
    "\n",
    "#Agrego la columna con el promedio de la desviación \n",
    "conditions['average_dev']= conditions['std_deviation']/np.sqrt(conditions['n'])\n",
    "conditions"
   ]
  },
  {
   "cell_type": "markdown",
   "metadata": {},
   "source": [
    "### Prueba de Hipótesis"
   ]
  },
  {
   "cell_type": "markdown",
   "metadata": {},
   "source": [
    "Hipotesis Nula y Alternativa:\n",
    "- H0: La duración promedio de los viajes desde loop hasta el aeropuerto O'Hare es igual los sábados lluviosos y los sábados con buen clima.\n",
    "- Ha: La duración promedio de los viajes desde loop hasta el aeropuerto O'Hare cambia los sábados lluviosos."
   ]
  },
  {
   "cell_type": "markdown",
   "metadata": {},
   "source": [
    "#### Prueba de Levene\n",
    "\n",
    " Uso de Levene para comparar si las varianzas de las muestras son iguales"
   ]
  },
  {
   "cell_type": "code",
   "execution_count": 26,
   "metadata": {},
   "outputs": [
    {
     "name": "stdout",
     "output_type": "stream",
     "text": [
      "Probabilidad de que las varianzas sean iguales:  66.87312920630069 %\n",
      "las varianzas son iguales, equalvar= True\n"
     ]
    }
   ],
   "source": [
    "lev_test = st.levene(trips_loop[trips_loop['weather_conditions'] == 'Bad']['duration_seconds'], \n",
    "                     trips_loop[trips_loop['weather_conditions'] == 'Good']['duration_seconds'])\n",
    "\n",
    "print ('Probabilidad de que las varianzas sean iguales: ',lev_test.pvalue*100,'%')\n",
    "\n",
    "beta= 0.05\n",
    "\n",
    "if lev_test.pvalue< beta:\n",
    "    print ('las varianzas no son iguales, equalvar= False')\n",
    "else:\n",
    "    print ('las varianzas son iguales, equalvar= True')"
   ]
  },
  {
   "cell_type": "markdown",
   "metadata": {},
   "source": [
    "#### Prueba T Student"
   ]
  },
  {
   "cell_type": "code",
   "execution_count": 27,
   "metadata": {},
   "outputs": [
    {
     "name": "stdout",
     "output_type": "stream",
     "text": [
      "La probabilidad de que la hipotesis nula sea verdadera es de:  1.3318772977743245e-09 %\n"
     ]
    }
   ],
   "source": [
    "# Uso del Ttest para comparar estadísticamente los datos de tiempo en función del clima\n",
    "prob = st.ttest_ind (trips_loop[trips_loop['weather_conditions'] == 'Bad']['duration_seconds'], \n",
    "                     trips_loop[trips_loop['weather_conditions'] == 'Good']['duration_seconds'],\n",
    "                equal_var = True, alternative = 'two-sided')\n",
    "\n",
    "print ('La probabilidad de que la hipotesis nula sea verdadera es de: ', (prob.pvalue)*100, '%')"
   ]
  },
  {
   "cell_type": "code",
   "execution_count": 28,
   "metadata": {},
   "outputs": [
    {
     "name": "stdout",
     "output_type": "stream",
     "text": [
      "La hipótesis alternativa es estadísticamente relevante\n"
     ]
    }
   ],
   "source": [
    "#Establecer el umbral alfa de significancia\n",
    "alpha = 0.5\n",
    "\n",
    "#Comprobar el resultado del Ttest con el umbral de decisión alfa\n",
    "if (prob.pvalue > alpha):\n",
    "    print ('No se puede negar la hipotesis nula')\n",
    "else:\n",
    "     print('La hipótesis alternativa es estadísticamente relevante')"
   ]
  },
  {
   "cell_type": "markdown",
   "metadata": {},
   "source": [
    "## Conclusiones"
   ]
  },
  {
   "cell_type": "markdown",
   "metadata": {},
   "source": [
    "- Podemos considerar relevantes para el análisis a las empresas 'Flash Cab' (con especial énfasis) y 'Taxi Affillation Services', ya que son las que mas viajes realizan.\n",
    "- En cuanto al comportamiento de cada viaje, se puede prestar atención a los barrios 'Loop' y ' River North', como los que tienen mayor promedio de arribos.\n",
    "- En cuanto al tiempo de los viajes respecto al clima, podemos tomar de ejemplo el caso de los viajes entre Loop y el aeropuerto O'Hare, para afirmar que es estadísticamente relevante la diferencia existente en el promedio de duración de los viajes para los sábados lluviosos versus los que tienen buen clima."
   ]
  }
 ],
 "metadata": {
  "ExecuteTimeLog": [
   {
    "duration": 158,
    "start_time": "2024-10-18T16:24:23.036Z"
   },
   {
    "duration": 286,
    "start_time": "2024-10-18T16:24:28.564Z"
   },
   {
    "duration": 2,
    "start_time": "2024-10-18T16:24:34.096Z"
   },
   {
    "duration": 155,
    "start_time": "2024-10-18T16:32:07.608Z"
   },
   {
    "duration": 310,
    "start_time": "2024-10-18T16:32:19.406Z"
   },
   {
    "duration": 16,
    "start_time": "2024-10-18T16:32:22.066Z"
   },
   {
    "duration": 37,
    "start_time": "2024-10-18T16:32:36.271Z"
   },
   {
    "duration": 6,
    "start_time": "2024-10-18T16:32:50.758Z"
   },
   {
    "duration": 11,
    "start_time": "2024-10-18T16:32:59.271Z"
   },
   {
    "duration": 11,
    "start_time": "2024-10-18T16:33:08.559Z"
   },
   {
    "duration": 11,
    "start_time": "2024-10-18T16:35:38.893Z"
   },
   {
    "duration": 10,
    "start_time": "2024-10-18T16:35:54.706Z"
   },
   {
    "duration": 7,
    "start_time": "2024-10-18T16:37:48.361Z"
   },
   {
    "duration": 8,
    "start_time": "2024-10-18T16:38:16.550Z"
   },
   {
    "duration": 5,
    "start_time": "2024-10-18T16:40:19.574Z"
   },
   {
    "duration": 6,
    "start_time": "2024-10-18T16:40:43.117Z"
   },
   {
    "duration": 7,
    "start_time": "2024-10-18T16:41:06.465Z"
   },
   {
    "duration": 8,
    "start_time": "2024-10-18T16:50:55.173Z"
   },
   {
    "duration": 6,
    "start_time": "2024-10-18T16:51:10.829Z"
   },
   {
    "duration": 6,
    "start_time": "2024-10-18T16:51:19.335Z"
   },
   {
    "duration": 6,
    "start_time": "2024-10-18T16:51:52.512Z"
   },
   {
    "duration": 8,
    "start_time": "2024-10-18T16:57:36.608Z"
   },
   {
    "duration": 12,
    "start_time": "2024-10-18T16:57:54.604Z"
   },
   {
    "duration": 13,
    "start_time": "2024-10-18T16:59:03.398Z"
   },
   {
    "duration": 13,
    "start_time": "2024-10-18T16:59:12.429Z"
   },
   {
    "duration": 7,
    "start_time": "2024-10-18T16:59:30.657Z"
   },
   {
    "duration": 6,
    "start_time": "2024-10-18T17:03:32.528Z"
   },
   {
    "duration": 2003,
    "start_time": "2024-10-18T17:04:00.857Z"
   },
   {
    "duration": 158,
    "start_time": "2024-10-18T17:04:47.009Z"
   },
   {
    "duration": 207,
    "start_time": "2024-10-18T17:05:15.543Z"
   },
   {
    "duration": 186,
    "start_time": "2024-10-18T17:05:48.086Z"
   },
   {
    "duration": 185,
    "start_time": "2024-10-18T17:06:52.522Z"
   },
   {
    "duration": 202,
    "start_time": "2024-10-18T17:07:32.351Z"
   },
   {
    "duration": 174,
    "start_time": "2024-10-18T17:08:33.586Z"
   },
   {
    "duration": 162,
    "start_time": "2024-10-18T17:08:58.238Z"
   },
   {
    "duration": 7,
    "start_time": "2024-10-18T17:16:33.864Z"
   },
   {
    "duration": 422,
    "start_time": "2024-10-18T17:18:48.199Z"
   },
   {
    "duration": 151,
    "start_time": "2024-10-18T17:19:02.797Z"
   },
   {
    "duration": 13,
    "start_time": "2024-10-18T17:49:29.990Z"
   },
   {
    "duration": 10,
    "start_time": "2024-10-18T17:50:02.756Z"
   },
   {
    "duration": 6,
    "start_time": "2024-10-18T17:50:24.670Z"
   },
   {
    "duration": 8,
    "start_time": "2024-10-18T17:53:51.794Z"
   },
   {
    "duration": 9,
    "start_time": "2024-10-18T17:54:07.495Z"
   },
   {
    "duration": 12,
    "start_time": "2024-10-18T17:59:11.218Z"
   },
   {
    "duration": 13,
    "start_time": "2024-10-18T17:59:40.185Z"
   },
   {
    "duration": 13,
    "start_time": "2024-10-18T18:00:08.155Z"
   },
   {
    "duration": 5,
    "start_time": "2024-10-18T18:00:15.544Z"
   },
   {
    "duration": 14,
    "start_time": "2024-10-18T18:05:32.003Z"
   },
   {
    "duration": 14,
    "start_time": "2024-10-18T18:05:42.313Z"
   },
   {
    "duration": 12,
    "start_time": "2024-10-18T18:05:57.758Z"
   },
   {
    "duration": 316,
    "start_time": "2024-10-18T18:06:01.641Z"
   },
   {
    "duration": 60,
    "start_time": "2024-10-18T18:06:21.302Z"
   },
   {
    "duration": 18,
    "start_time": "2024-10-18T18:06:34.922Z"
   },
   {
    "duration": 15,
    "start_time": "2024-10-18T18:06:56.233Z"
   },
   {
    "duration": 21,
    "start_time": "2024-10-18T18:11:44.071Z"
   },
   {
    "duration": 21,
    "start_time": "2024-10-18T18:12:03.220Z"
   },
   {
    "duration": 21,
    "start_time": "2024-10-18T18:12:13.665Z"
   },
   {
    "duration": 20,
    "start_time": "2024-10-18T18:12:28.001Z"
   },
   {
    "duration": 21,
    "start_time": "2024-10-18T18:12:39.284Z"
   },
   {
    "duration": 383,
    "start_time": "2024-10-18T18:15:38.895Z"
   },
   {
    "duration": 13,
    "start_time": "2024-10-18T18:16:03.454Z"
   },
   {
    "duration": 18,
    "start_time": "2024-10-18T18:16:40.450Z"
   },
   {
    "duration": 19,
    "start_time": "2024-10-18T18:17:11.880Z"
   },
   {
    "duration": 424,
    "start_time": "2024-10-18T19:43:37.618Z"
   },
   {
    "duration": 20,
    "start_time": "2024-10-18T19:43:45.230Z"
   },
   {
    "duration": 8,
    "start_time": "2024-10-18T19:46:31.158Z"
   },
   {
    "duration": 42,
    "start_time": "2024-10-18T19:54:12.439Z"
   },
   {
    "duration": 247,
    "start_time": "2024-10-18T19:54:31.269Z"
   },
   {
    "duration": 41,
    "start_time": "2024-10-18T19:55:04.683Z"
   },
   {
    "duration": 14,
    "start_time": "2024-10-18T19:55:55.197Z"
   },
   {
    "duration": 4,
    "start_time": "2024-10-18T19:56:27.557Z"
   },
   {
    "duration": 7,
    "start_time": "2024-10-18T19:58:23.188Z"
   },
   {
    "duration": 42,
    "start_time": "2024-10-18T20:00:37.437Z"
   },
   {
    "duration": 5,
    "start_time": "2024-10-18T20:02:16.051Z"
   },
   {
    "duration": 5,
    "start_time": "2024-10-18T20:05:52.654Z"
   },
   {
    "duration": 4,
    "start_time": "2024-10-18T20:05:59.825Z"
   },
   {
    "duration": 4,
    "start_time": "2024-10-18T20:06:15.930Z"
   },
   {
    "duration": 3,
    "start_time": "2024-10-18T20:06:48.322Z"
   },
   {
    "duration": 615,
    "start_time": "2024-10-18T20:23:32.032Z"
   },
   {
    "duration": 13,
    "start_time": "2024-10-18T20:23:32.649Z"
   },
   {
    "duration": 9,
    "start_time": "2024-10-18T20:23:32.664Z"
   },
   {
    "duration": 8,
    "start_time": "2024-10-18T20:23:32.675Z"
   },
   {
    "duration": 21,
    "start_time": "2024-10-18T20:23:32.685Z"
   },
   {
    "duration": 13,
    "start_time": "2024-10-18T20:23:32.708Z"
   },
   {
    "duration": 6,
    "start_time": "2024-10-18T20:23:32.722Z"
   },
   {
    "duration": 5,
    "start_time": "2024-10-18T20:23:32.730Z"
   },
   {
    "duration": 7,
    "start_time": "2024-10-18T20:23:32.736Z"
   },
   {
    "duration": 377,
    "start_time": "2024-10-18T20:23:32.744Z"
   },
   {
    "duration": 7,
    "start_time": "2024-10-18T20:23:33.123Z"
   },
   {
    "duration": 149,
    "start_time": "2024-10-18T20:23:33.132Z"
   },
   {
    "duration": 8,
    "start_time": "2024-10-18T20:23:33.282Z"
   },
   {
    "duration": 30,
    "start_time": "2024-10-18T20:23:33.293Z"
   },
   {
    "duration": 5,
    "start_time": "2024-10-18T20:23:33.324Z"
   },
   {
    "duration": 3,
    "start_time": "2024-10-18T20:23:33.332Z"
   },
   {
    "duration": 157,
    "start_time": "2024-10-19T16:41:22.079Z"
   },
   {
    "duration": 12,
    "start_time": "2024-10-19T16:41:38.801Z"
   },
   {
    "duration": 596,
    "start_time": "2024-10-19T16:42:02.429Z"
   },
   {
    "duration": 15,
    "start_time": "2024-10-19T16:42:03.027Z"
   },
   {
    "duration": 10,
    "start_time": "2024-10-19T16:42:03.044Z"
   },
   {
    "duration": 9,
    "start_time": "2024-10-19T16:42:03.057Z"
   },
   {
    "duration": 22,
    "start_time": "2024-10-19T16:42:03.067Z"
   },
   {
    "duration": 6,
    "start_time": "2024-10-19T16:42:03.090Z"
   },
   {
    "duration": 14,
    "start_time": "2024-10-19T16:42:03.097Z"
   },
   {
    "duration": 6,
    "start_time": "2024-10-19T16:42:03.112Z"
   },
   {
    "duration": 6,
    "start_time": "2024-10-19T16:42:03.120Z"
   },
   {
    "duration": 7,
    "start_time": "2024-10-19T16:42:03.129Z"
   },
   {
    "duration": 2121,
    "start_time": "2024-10-19T16:42:03.138Z"
   },
   {
    "duration": 7,
    "start_time": "2024-10-19T16:42:05.261Z"
   },
   {
    "duration": 142,
    "start_time": "2024-10-19T16:42:05.270Z"
   },
   {
    "duration": 9,
    "start_time": "2024-10-19T16:42:05.414Z"
   },
   {
    "duration": 20,
    "start_time": "2024-10-19T16:42:05.424Z"
   },
   {
    "duration": 4,
    "start_time": "2024-10-19T16:42:05.446Z"
   },
   {
    "duration": 3,
    "start_time": "2024-10-19T16:42:05.452Z"
   },
   {
    "duration": 127,
    "start_time": "2024-10-19T16:47:36.859Z"
   },
   {
    "duration": 104,
    "start_time": "2024-10-19T16:47:46.691Z"
   },
   {
    "duration": 91,
    "start_time": "2024-10-19T16:47:57.080Z"
   },
   {
    "duration": 95,
    "start_time": "2024-10-19T16:51:01.049Z"
   },
   {
    "duration": 94,
    "start_time": "2024-10-19T16:51:17.642Z"
   },
   {
    "duration": 7,
    "start_time": "2024-10-19T16:52:50.793Z"
   },
   {
    "duration": 6,
    "start_time": "2024-10-19T16:53:31.985Z"
   },
   {
    "duration": 9,
    "start_time": "2024-10-19T17:01:03.985Z"
   },
   {
    "duration": 6,
    "start_time": "2024-10-19T17:05:18.732Z"
   },
   {
    "duration": 7,
    "start_time": "2024-10-19T17:05:23.476Z"
   },
   {
    "duration": 6,
    "start_time": "2024-10-19T17:05:55.829Z"
   },
   {
    "duration": 5,
    "start_time": "2024-10-19T17:08:06.492Z"
   },
   {
    "duration": 7,
    "start_time": "2024-10-19T17:08:21.286Z"
   },
   {
    "duration": 8,
    "start_time": "2024-10-19T17:10:31.965Z"
   },
   {
    "duration": 87,
    "start_time": "2024-10-19T17:21:41.123Z"
   },
   {
    "duration": 9,
    "start_time": "2024-10-19T17:26:24.966Z"
   },
   {
    "duration": 400,
    "start_time": "2024-10-19T17:28:31.924Z"
   },
   {
    "duration": 13,
    "start_time": "2024-10-19T17:28:45.035Z"
   },
   {
    "duration": 16,
    "start_time": "2024-10-19T17:39:13.301Z"
   },
   {
    "duration": 3,
    "start_time": "2024-10-19T17:39:17.776Z"
   },
   {
    "duration": 3,
    "start_time": "2024-10-19T17:39:20.023Z"
   },
   {
    "duration": 6,
    "start_time": "2024-10-19T17:40:09.199Z"
   },
   {
    "duration": 548,
    "start_time": "2024-10-19T17:40:57.475Z"
   },
   {
    "duration": 11,
    "start_time": "2024-10-19T17:40:58.025Z"
   },
   {
    "duration": 9,
    "start_time": "2024-10-19T17:40:58.038Z"
   },
   {
    "duration": 8,
    "start_time": "2024-10-19T17:40:58.050Z"
   },
   {
    "duration": 26,
    "start_time": "2024-10-19T17:40:58.060Z"
   },
   {
    "duration": 6,
    "start_time": "2024-10-19T17:40:58.088Z"
   },
   {
    "duration": 8,
    "start_time": "2024-10-19T17:40:58.095Z"
   },
   {
    "duration": 6,
    "start_time": "2024-10-19T17:40:58.104Z"
   },
   {
    "duration": 6,
    "start_time": "2024-10-19T17:40:58.112Z"
   },
   {
    "duration": 8,
    "start_time": "2024-10-19T17:40:58.122Z"
   },
   {
    "duration": 11,
    "start_time": "2024-10-19T17:40:58.132Z"
   },
   {
    "duration": 41,
    "start_time": "2024-10-19T17:40:58.145Z"
   },
   {
    "duration": 9,
    "start_time": "2024-10-19T17:40:58.188Z"
   },
   {
    "duration": 6,
    "start_time": "2024-10-19T17:40:58.199Z"
   },
   {
    "duration": 8,
    "start_time": "2024-10-19T17:40:58.207Z"
   },
   {
    "duration": 4,
    "start_time": "2024-10-19T17:40:58.216Z"
   },
   {
    "duration": 6,
    "start_time": "2024-10-19T17:40:58.221Z"
   },
   {
    "duration": 6,
    "start_time": "2024-10-19T17:40:58.228Z"
   },
   {
    "duration": 399,
    "start_time": "2024-10-19T17:40:58.236Z"
   },
   {
    "duration": 7,
    "start_time": "2024-10-19T17:40:58.637Z"
   },
   {
    "duration": 143,
    "start_time": "2024-10-19T17:40:58.646Z"
   },
   {
    "duration": 9,
    "start_time": "2024-10-19T17:40:58.791Z"
   },
   {
    "duration": 22,
    "start_time": "2024-10-19T17:40:58.802Z"
   },
   {
    "duration": 5,
    "start_time": "2024-10-19T17:40:58.826Z"
   },
   {
    "duration": 4,
    "start_time": "2024-10-19T17:40:58.832Z"
   },
   {
    "duration": 2,
    "start_time": "2024-10-19T17:50:58.340Z"
   },
   {
    "duration": 6,
    "start_time": "2024-10-19T17:55:10.758Z"
   },
   {
    "duration": 6,
    "start_time": "2024-10-19T17:55:53.733Z"
   },
   {
    "duration": 6,
    "start_time": "2024-10-19T17:55:59.872Z"
   },
   {
    "duration": 6,
    "start_time": "2024-10-19T17:56:10.552Z"
   },
   {
    "duration": 5,
    "start_time": "2024-10-19T17:56:29.570Z"
   },
   {
    "duration": 6,
    "start_time": "2024-10-19T17:57:36.399Z"
   },
   {
    "duration": 6,
    "start_time": "2024-10-19T17:58:06.030Z"
   },
   {
    "duration": 3,
    "start_time": "2024-10-19T17:58:44.493Z"
   }
  ],
  "kernelspec": {
   "display_name": "Python 3",
   "language": "python",
   "name": "python3"
  },
  "language_info": {
   "codemirror_mode": {
    "name": "ipython",
    "version": 3
   },
   "file_extension": ".py",
   "mimetype": "text/x-python",
   "name": "python",
   "nbconvert_exporter": "python",
   "pygments_lexer": "ipython3",
   "version": "3.12.3"
  },
  "toc": {
   "base_numbering": 1,
   "nav_menu": {
    "height": "48px",
    "width": "235px"
   },
   "number_sections": true,
   "sideBar": true,
   "skip_h1_title": true,
   "title_cell": "Table of Contents",
   "title_sidebar": "Contents",
   "toc_cell": false,
   "toc_position": {
    "height": "calc(100% - 180px)",
    "left": "10px",
    "top": "150px",
    "width": "181px"
   },
   "toc_section_display": true,
   "toc_window_display": true
  }
 },
 "nbformat": 4,
 "nbformat_minor": 2
}
